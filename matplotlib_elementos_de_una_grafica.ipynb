{
 "cells": [
  {
   "cell_type": "markdown",
   "metadata": {},
   "source": [
    "# Matplotlib: Elementos de una gráfica.\n",
    "Veamos las partes que conforman la anatomía de una gráfica. Cuando iniciamos una figura podemos definir los siguientes parámetros:\n",
    "+ Tamaño\n",
    "+ Ejes: límites y marcas (eje x, eje y)\n",
    "  * Límites: max y min\n",
    "  * Marcas: mayor, menor\n",
    "+ Etiquetas: Título, ejes, leyendas, ..\n",
    "  * Título\n",
    "  * Ejes: marcas y ejes\n",
    "+ Colores\n",
    "+ Estilos"
   ]
  },
  {
   "cell_type": "code",
   "execution_count": 1,
   "metadata": {},
   "outputs": [],
   "source": [
    "import numpy as np\n",
    "# Creamos el dataset de trabajo\n",
    "X = np.linspace(0.5, 3.5, 100)\n",
    "Y1 = 3+np.cos(X)\n",
    "Y2 = 1+np.cos(1+X/0.75)/2"
   ]
  },
  {
   "cell_type": "code",
   "execution_count": 15,
   "metadata": {},
   "outputs": [
    {
     "data": {
      "text/plain": [
       "<Figure size 750x750 with 0 Axes>"
      ]
     },
     "metadata": {},
     "output_type": "display_data"
    },
    {
     "data": {
      "image/png": "[encoded data removed]",
      "text/plain": [
       "<Figure size 748.031x748.031 with 1 Axes>"
      ]
     },
     "metadata": {},
     "output_type": "display_data"
    }
   ],
   "source": [
    "# Importamos matplotlib\n",
    "import matplotlib.pyplot as plt\n",
    "import matplotlib.ticker as ticker\n",
    "# lo primero que podemos definir es el tamaño de la figura que está en pulgadas\n",
    "# guardamos el objeto para luego poder modificarlo\n",
    "fig = plt.figure(figsize=(7.5, 7.5))\n",
    "# podríamos pasarle los datos en cm y convertirlos a pulgadas\n",
    "cm = 1/2.54\n",
    "fig = plt.figure(figsize=(19*cm, 19*cm))\n",
    "# una figura puede contener varios ejes\n",
    "ax = fig.add_axes([0.2, 0.17, 0.68, 0.7], aspect=1) # aspect=1 pq la gráfica es cuadrada\n",
    "ax.set_xlim(-2, 5)\n",
    "ax.set_ylim(-2, 5)\n",
    "'''Marcas en los ejes. Se pueden formatear y etiquetar de manera indepandiente. hay de dos tipos mayores y menores'''\n",
    "# Mayores\n",
    "ax.xaxis.set_major_locator(ticker.MultipleLocator(0.5))\n",
    "ax.yaxis.set_major_locator(ticker.MultipleLocator(0.5))\n",
    "# menores: número de marcas menores entre cada marca mayor\n",
    "ax.xaxis.set_minor_locator(ticker.AutoMinorLocator(2))\n",
    "ax.yaxis.set_minor_locator(ticker.AutoMinorLocator(2))\n",
    "ax.xaxis.set_minor_formatter(\"{x:.2f}\") #número de decimales de la marca menor\n",
    "'''aspecto de las etiquetas'''\n",
    "ax.tick_params(axis='both', which='major', width=1.0, length=10, labelsize=8)\n",
    "ax.tick_params(which='minor', width=1.0, length=5, labelsize=6, labelcolor='0.2')"
   ]
  },
  {
   "cell_type": "markdown",
   "metadata": {},
   "source": [
    "## Tickers o marcadores\n",
    "Los locators permiten generar las marcas de forma automática, los más usados son:\n",
    "+ MultipleLocator: indica las unidades de separación\n",
    "+ MaxNLocator: indica el número máximo de marcas\n",
    "+ LinearLocator: distribuye uniformemente el número de marcas\n",
    "\n",
    "Si solo tenemos una gráfica podemos indicar directamente los valores de las marcas:\n",
    "plt.xticks([0,1,2,3,4])"
   ]
  },
  {
   "cell_type": "code",
   "execution_count": null,
   "metadata": {},
   "outputs": [],
   "source": []
  }
 ],
 "metadata": {
  "kernelspec": {
   "display_name": "myenv",
   "language": "python",
   "name": "python3"
  },
  "language_info": {
   "codemirror_mode": {
    "name": "ipython",
    "version": 3
   },
   "file_extension": ".py",
   "mimetype": "text/x-python",
   "name": "python",
   "nbconvert_exporter": "python",
   "pygments_lexer": "ipython3",
   "version": "3.10.11"
  }
 },
 "nbformat": 4,
 "nbformat_minor": 2
}
